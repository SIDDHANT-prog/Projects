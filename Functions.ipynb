{
 "cells": [
  {
   "cell_type": "markdown",
   "metadata": {},
   "source": [
    "1. Write a function that inputs a number and prints the multiplication table of that number.\n"
   ]
  },
  {
   "cell_type": "code",
   "execution_count": 1,
   "metadata": {},
   "outputs": [
    {
     "name": "stdout",
     "output_type": "stream",
     "text": [
      "5\n",
      "10\n",
      "15\n",
      "20\n",
      "25\n",
      "30\n",
      "35\n",
      "40\n",
      "45\n",
      "50\n"
     ]
    }
   ],
   "source": [
    "def multiplication_table():\n",
    "    num = int(input('enter a number'))\n",
    "    for i in range(1,11):\n",
    "        table = i*num\n",
    "        print(table)\n",
    "\n",
    "multiplication_table()\n"
   ]
  },
  {
   "cell_type": "markdown",
   "metadata": {},
   "source": [
    "2. Write a program to print twin primes less than 1000. \n",
    " If two consecutive odd numbers are both prime then they are known as twin prime"
   ]
  },
  {
   "cell_type": "markdown",
   "metadata": {},
   "source": [
    "# 1.Check for prime number in the list\n",
    "# 2.check for difference 2 for consecutive prime numbers\n",
    "# 3.if difference =2 then they are twin prime numbers"
   ]
  },
  {
   "cell_type": "code",
   "execution_count": 1,
   "metadata": {},
   "outputs": [
    {
     "name": "stdout",
     "output_type": "stream",
     "text": [
      "1 3\n",
      "3 5\n",
      "5 7\n",
      "11 13\n",
      "17 19\n",
      "29 31\n",
      "41 43\n",
      "59 61\n",
      "71 73\n"
     ]
    }
   ],
   "source": [
    "\n",
    "def prime(n):\n",
    "    flag=0\n",
    "    for j in range(2,(n//2)+1):    #if number is divisible by half of the same no. then it is not prime\n",
    "        if n%j==0:\n",
    "            flag=1\n",
    "            break\n",
    "    return flag\n",
    "\n",
    "for i in range (1,100):\n",
    "    if prime(i)==0 and prime(i+2)==0: \n",
    "        print(i, i+2)\n"
   ]
  },
  {
   "cell_type": "markdown",
   "metadata": {},
   "source": [
    "3. Write a program to find out the prime factors of a number. Example: prime factors of 56 - \n",
    "2, 2, 2, 7"
   ]
  },
  {
   "cell_type": "code",
   "execution_count": 3,
   "metadata": {},
   "outputs": [],
   "source": [
    "#1.Check for the number\n",
    "#2.if number is prime then print as prime number\n",
    "#3.if number is not prime then check for factorisation\n",
    "#4.Factorisation as: divide the num by 2 , if rem is zero then print 2. now divide the num by 2 and repeat the prcocess\n",
    "#5 if number is odd then divide it by 3 to 7 numbers, if rem is zero print the i and divide num by i and repeat"
   ]
  },
  {
   "cell_type": "code",
   "execution_count": 4,
   "metadata": {},
   "outputs": [
    {
     "name": "stdout",
     "output_type": "stream",
     "text": [
      "not prime\n",
      "2,5,"
     ]
    }
   ],
   "source": [
    "def prime_factor(n):\n",
    "    #check if no. is prime\n",
    "    for i in range(2,n):\n",
    "        is_prime= False\n",
    "        if n%i==0:\n",
    "            print('not prime')\n",
    "            break\n",
    "        else:\n",
    "            print('prime')\n",
    "            is_prime= True\n",
    "    #check for factorisation if number is not prime\n",
    "    if is_prime==False:      \n",
    "        \n",
    "        while n%2==0:\n",
    "            #if number is divisible by 2 print(2)\n",
    "            print(2,end=',')\n",
    "            n = n/2\n",
    "            r = n\n",
    "            # if number is odd then divide it with 3 to 7 and check remainder\n",
    "        if r%2!=0:\n",
    "            for i in range(3,8):\n",
    "                while r%i==0:\n",
    "                    r= r/i\n",
    "                    print(i,end=',')   \n",
    "\n",
    "prime_factor(10)\n",
    "\n",
    "\n",
    "\n"
   ]
  },
  {
   "cell_type": "markdown",
   "metadata": {},
   "source": [
    "4. Write a program to implement these formulae of permutations and combinations. \n",
    "Number of permutations of n objects taken r at a time: p(n, r) = n! / (n-r)!. Number of \n",
    "combinations of n objects taken r at a time is: c(n, r) = n! / (r!*(n-r)!) = p(n,r) / r"
   ]
  },
  {
   "cell_type": "code",
   "execution_count": 12,
   "metadata": {},
   "outputs": [
    {
     "name": "stdout",
     "output_type": "stream",
     "text": [
      "numerator 120\n",
      "a: 3\n",
      "denominator 6\n",
      "Permutation:n!/(n-r)!: 20.0\n",
      "numerator 120\n",
      "a: 3\n",
      "denominator 6\n",
      "combination 10.0\n"
     ]
    }
   ],
   "source": [
    "#Combination\n",
    "def perm(n,r):\n",
    "    \n",
    "    f=1\n",
    "\n",
    "    for i in range(1,n+1):\n",
    "        f = f*i\n",
    "        numerator=f\n",
    "    \n",
    "    print('numerator',numerator)\n",
    "\n",
    "    a= n-r\n",
    "    print('a:',a)\n",
    "    \n",
    "    if a>1:\n",
    "    \n",
    "        b=1\n",
    "\n",
    "        for j in range(1,a+1):\n",
    "            b = b*j\n",
    "            denominator=b\n",
    "    else:\n",
    "        denominator=1\n",
    "\n",
    "    print('denominator',denominator)    \n",
    "\n",
    "    Perm_formuale= numerator/denominator\n",
    "    print('Permutation:n!/(n-r)!:',Perm_formuale)\n",
    "\n",
    "#Combination\n",
    "def C(n,r):\n",
    "\n",
    "    f=1\n",
    "\n",
    "    for i in range(1,n+1):\n",
    "        f = f*i\n",
    "        numerator=f\n",
    "    \n",
    "    print('numerator',numerator)\n",
    "\n",
    "    a= n-r\n",
    "    print('a:',a)\n",
    "    \n",
    "    if a>1:\n",
    "    \n",
    "        b=1\n",
    "\n",
    "        for j in range(1,a+1):\n",
    "            b = b*j\n",
    "            denominator=b\n",
    "    else:\n",
    "        denominator=1\n",
    "\n",
    "    print('denominator',denominator)    \n",
    "\n",
    "    Perm_formuale= numerator/denominator\n",
    "    Combination = Perm_formuale/r\n",
    "\n",
    "    print('combination:',Combination)\n",
    "\n",
    "perm(5,2)\n",
    "C(5,2)"
   ]
  },
  {
   "cell_type": "markdown",
   "metadata": {},
   "source": [
    "5. Write a function that converts a decimal number to binary number"
   ]
  },
  {
   "cell_type": "markdown",
   "metadata": {},
   "source": [
    "# dividing number by 2 till quotient is zero\n",
    "# After each division add remainder to the list\n",
    "# Remainder  sequence is binary number\n",
    "# using recursion"
   ]
  },
  {
   "cell_type": "code",
   "execution_count": 6,
   "metadata": {},
   "outputs": [
    {
     "name": "stdout",
     "output_type": "stream",
     "text": [
      "1 1 "
     ]
    }
   ],
   "source": [
    "def binary(n):\n",
    " \n",
    " \n",
    "    if(n > 1):\n",
    "        \n",
    "        binary(n//2)\n",
    "        \n",
    "    \n",
    "    r =n%2\n",
    "        \n",
    "    print(r, end=' ')\n",
    "\n",
    "binary(3)     "
   ]
  },
  {
   "cell_type": "markdown",
   "metadata": {},
   "source": [
    "6. Write a function cubesum() that accepts an integer and returns the sum of the cubes of \n",
    "individual digits of that number. Use this function to make functions PrintArmstrong() and  isArmstrong() to print Armstrong numbers and to find whether is an Armstrong number."
   ]
  },
  {
   "cell_type": "markdown",
   "metadata": {},
   "source": [
    "# Converting num to string for number of digits \n",
    "# iterating with each digit with integer number\n",
    "# Adding the cube of each digit with simple for loop"
   ]
  },
  {
   "cell_type": "code",
   "execution_count": 40,
   "metadata": {},
   "outputs": [
    {
     "name": "stdout",
     "output_type": "stream",
     "text": [
      "1\n",
      "153\n",
      "370\n",
      "371\n",
      "407\n",
      "no\n"
     ]
    }
   ],
   "source": [
    "#Sum of Cubes of a number\n",
    "def cubesum(num):\n",
    "    \n",
    "   \n",
    "    sum = 0\n",
    "    for i in str(num):\n",
    "        #print(i)\n",
    "        sum = sum +int(i)*int(i)*int(i)\n",
    "    #print(sum)\n",
    "    return(sum)\n",
    "\n",
    "#Armstrong number in range\n",
    "def printArmstrong():\n",
    "    for i in  range(1,500):\n",
    "         if cubesum(i) ==i:\n",
    "             print(i)\n",
    "\n",
    "\n",
    "#Check if number is armstrong\n",
    "def isArmstrong():\n",
    "    if cubesum(num) ==num:\n",
    "        print('yes')\n",
    "    else:\n",
    "        print('no')   \n",
    "\n",
    "cubesum(153)\n",
    "printArmstrong()\n",
    "isArmstrong()\n"
   ]
  },
  {
   "cell_type": "markdown",
   "metadata": {},
   "source": [
    "7. Write a function prodDigits() that inputs a number and returns the product of digits of that number."
   ]
  },
  {
   "cell_type": "code",
   "execution_count": 31,
   "metadata": {},
   "outputs": [
    {
     "name": "stdout",
     "output_type": "stream",
     "text": [
      "8\n",
      "6\n",
      "48\n"
     ]
    }
   ],
   "source": [
    "def prodDigits(num):\n",
    "    num = int(input('enter a number'))\n",
    "    \n",
    "\n",
    "    mul= 1\n",
    "    for i in str(num): #iterating through digit\n",
    "        print(i)\n",
    "        mul = mul * int(i)\n",
    "    print(mul)\n",
    "\n",
    "prodDigits(86)\n"
   ]
  },
  {
   "cell_type": "markdown",
   "metadata": {},
   "source": [
    "8. Using the function prodDigits() of previous exercise write functions MDR() and \n",
    "MPersistence() that input a number and return its multiplicative digital root and \n",
    "multiplicative persistence respectively"
   ]
  },
  {
   "cell_type": "code",
   "execution_count": 33,
   "metadata": {},
   "outputs": [
    {
     "name": "stdout",
     "output_type": "stream",
     "text": [
      "8\n",
      "6\n",
      "4\n",
      "8\n",
      "3\n",
      "2\n",
      "MDR= 6\n",
      "count= 3\n"
     ]
    }
   ],
   "source": [
    "def prodDigits(num):\n",
    "    #num = int(input('enter a number'))\n",
    "    \n",
    "\n",
    "    mul= 1\n",
    "    for i in str(num): #iterating through digit\n",
    "        print(i)\n",
    "        mul = mul * int(i)\n",
    "    return mul\n",
    "\n",
    "value =int(input(\"Enter a number\"))\n",
    "\n",
    "count=0\n",
    "while value>=10: #while loop continue till digit is greater than 2 i.e. value=10\n",
    "    value=prodDigits(value) #86>>48>>32>>6\n",
    "    count+=1\n",
    "\n",
    "print('MDR=',value)\n",
    "print('count=',count)"
   ]
  },
  {
   "cell_type": "markdown",
   "metadata": {},
   "source": [
    "9. Write a function sumPdivisors() that finds the sum of proper divisors of a number. Proper divisors of a number are those numbers by which the number is divisible, except the number itself. For example proper divisors of 36 are 1, 2, 3, 4, 6, 9, 18"
   ]
  },
  {
   "cell_type": "code",
   "execution_count": 24,
   "metadata": {},
   "outputs": [
    {
     "name": "stdout",
     "output_type": "stream",
     "text": [
      "1\n",
      "2\n",
      "4\n",
      "5\n",
      "10\n",
      "11\n",
      "20\n",
      "22\n",
      "44\n",
      "55\n",
      "110\n"
     ]
    }
   ],
   "source": [
    "def sumPdivisors():\n",
    "\n",
    "    n = int(input('enter number'))\n",
    "\n",
    "    for i in range(1,n):\n",
    "        if n%i==0:\n",
    "            print(i)\n",
    "           \n",
    "   \n",
    "sumPdivisors()\n",
    "\n",
    "\n"
   ]
  },
  {
   "cell_type": "markdown",
   "metadata": {},
   "source": [
    "10. A number is called perfect if the sum of proper divisors of that number is equal to the number. For example 28 is perfect number, since 1+2+4+7+14=28. Write a program to \n",
    "print all the perfect numbers in a given range"
   ]
  },
  {
   "cell_type": "code",
   "execution_count": 23,
   "metadata": {},
   "outputs": [
    {
     "name": "stdout",
     "output_type": "stream",
     "text": [
      "1\n",
      "6\n",
      "24\n",
      "28\n"
     ]
    }
   ],
   "source": [
    "def sumPdivisors():\n",
    "\n",
    "    n = int(input('enter number'))\n",
    "    \n",
    " \n",
    "    for i in range(1,n):\n",
    "\n",
    "        sum=0\n",
    "        for j in range(1,i+1):\n",
    "            if i%j==0:\n",
    "                sum = sum+j\n",
    "                if sum == i:\n",
    "                    print(i)\n",
    "                        \n",
    "                     \n",
    "\n",
    "sumPdivisors()\n"
   ]
  },
  {
   "cell_type": "markdown",
   "metadata": {},
   "source": [
    "10. Write a function to print pairs of amicable numbers in a range"
   ]
  },
  {
   "cell_type": "markdown",
   "metadata": {},
   "source": [
    "# take range of the list and print lst\n",
    "# for the numbers in the list calculate divisors of the numbers\n",
    "# for counting pairs consider range from seq1 = 1 to n and seq2 = 2 to n\n",
    "# check consecutive pair value, if equal print the value and after all the iterations print count of the pair\n"
   ]
  },
  {
   "cell_type": "code",
   "execution_count": 39,
   "metadata": {},
   "outputs": [
    {
     "name": "stdout",
     "output_type": "stream",
     "text": [
      "[1, 2, 3, 4, 5, 6, 7, 8, 9, 10, 11, 12, 13, 14, 15, 16, 17, 18, 19, 20, 21, 22, 23, 24, 25, 26, 27, 28, 29, 30, 31, 32, 33, 34, 35, 36, 37, 38, 39, 40, 41, 42, 43, 44, 45, 46, 47, 48, 49, 50, 51, 52, 53, 54, 55, 56, 57, 58, 59, 60, 61, 62, 63, 64, 65, 66, 67, 68, 69, 70, 71, 72, 73, 74, 75, 76, 77, 78, 79, 80, 81, 82, 83, 84, 85, 86, 87, 88, 89, 90, 91, 92, 93, 94, 95, 96, 97, 98, 99, 100, 101, 102, 103, 104, 105, 106, 107, 108, 109, 110, 111, 112, 113, 114, 115, 116, 117, 118, 119, 120, 121, 122, 123, 124, 125, 126, 127, 128, 129, 130, 131, 132, 133, 134, 135, 136, 137, 138, 139, 140, 141, 142, 143, 144, 145, 146, 147, 148, 149, 150, 151, 152, 153, 154, 155, 156, 157, 158, 159, 160, 161, 162, 163, 164, 165, 166, 167, 168, 169, 170, 171, 172, 173, 174, 175, 176, 177, 178, 179, 180, 181, 182, 183, 184, 185, 186, 187, 188, 189, 190, 191, 192, 193, 194, 195, 196, 197, 198, 199, 200, 201, 202, 203, 204, 205, 206, 207, 208, 209, 210, 211, 212, 213, 214, 215, 216, 217, 218, 219, 220, 221, 222, 223, 224, 225, 226, 227, 228, 229, 230, 231, 232, 233, 234, 235, 236, 237, 238, 239, 240, 241, 242, 243, 244, 245, 246, 247, 248, 249, 250, 251, 252, 253, 254, 255, 256, 257, 258, 259, 260, 261, 262, 263, 264, 265, 266, 267, 268, 269, 270, 271, 272, 273, 274, 275, 276, 277, 278, 279, 280, 281, 282, 283, 284, 285, 286, 287, 288, 289, 290, 291, 292, 293, 294, 295, 296, 297, 298, 299, 300, 301, 302, 303, 304, 305, 306, 307, 308, 309, 310, 311, 312, 313, 314, 315, 316, 317, 318, 319, 320, 321, 322, 323, 324, 325, 326, 327, 328, 329, 330, 331, 332, 333, 334, 335, 336, 337, 338, 339, 340, 341, 342, 343, 344, 345, 346, 347, 348, 349, 350, 351, 352, 353, 354, 355, 356, 357, 358, 359, 360, 361, 362, 363, 364, 365, 366, 367, 368, 369, 370, 371, 372, 373, 374, 375, 376, 377, 378, 379, 380, 381, 382, 383, 384, 385, 386, 387, 388, 389, 390, 391, 392, 393, 394, 395, 396, 397, 398, 399, 400, 401, 402, 403, 404, 405, 406, 407, 408, 409, 410, 411, 412, 413, 414, 415, 416, 417, 418, 419, 420, 421, 422, 423, 424, 425, 426, 427, 428, 429, 430, 431, 432, 433, 434, 435, 436, 437, 438, 439, 440, 441, 442, 443, 444, 445, 446, 447, 448, 449, 450, 451, 452, 453, 454, 455, 456, 457, 458, 459, 460, 461, 462, 463, 464, 465, 466, 467, 468, 469, 470, 471, 472, 473, 474, 475, 476, 477, 478, 479, 480, 481, 482, 483, 484, 485, 486, 487, 488, 489, 490, 491, 492, 493, 494, 495, 496, 497, 498, 499, 500, 501, 502, 503, 504, 505, 506, 507, 508, 509, 510, 511, 512, 513, 514, 515, 516, 517, 518, 519, 520, 521, 522, 523, 524, 525, 526, 527, 528, 529, 530, 531, 532, 533, 534, 535, 536, 537, 538, 539, 540, 541, 542, 543, 544, 545, 546, 547, 548, 549, 550, 551, 552, 553, 554, 555, 556, 557, 558, 559, 560, 561, 562, 563, 564, 565, 566, 567, 568, 569, 570, 571, 572, 573, 574, 575, 576, 577, 578, 579, 580, 581, 582, 583, 584, 585, 586, 587, 588, 589, 590, 591, 592, 593, 594, 595, 596, 597, 598, 599, 600, 601, 602, 603, 604, 605, 606, 607, 608, 609, 610, 611, 612, 613, 614, 615, 616, 617, 618, 619, 620, 621, 622, 623, 624, 625, 626, 627, 628, 629, 630, 631, 632, 633, 634, 635, 636, 637, 638, 639, 640, 641, 642, 643, 644, 645, 646, 647, 648, 649, 650, 651, 652, 653, 654, 655, 656, 657, 658, 659, 660, 661, 662, 663, 664, 665, 666, 667, 668, 669, 670, 671, 672, 673, 674, 675, 676, 677, 678, 679, 680, 681, 682, 683, 684, 685, 686, 687, 688, 689, 690, 691, 692, 693, 694, 695, 696, 697, 698, 699, 700, 701, 702, 703, 704, 705, 706, 707, 708, 709, 710, 711, 712, 713, 714, 715, 716, 717, 718, 719, 720, 721, 722, 723, 724, 725, 726, 727, 728, 729, 730, 731, 732, 733, 734, 735, 736, 737, 738, 739, 740, 741, 742, 743, 744, 745, 746, 747, 748, 749, 750, 751, 752, 753, 754, 755, 756, 757, 758, 759, 760, 761, 762, 763, 764, 765, 766, 767, 768, 769, 770, 771, 772, 773, 774, 775, 776, 777, 778, 779, 780, 781, 782, 783, 784, 785, 786, 787, 788, 789, 790, 791, 792, 793, 794, 795, 796, 797, 798, 799, 800, 801, 802, 803, 804, 805, 806, 807, 808, 809, 810, 811, 812, 813, 814, 815, 816, 817, 818, 819, 820, 821, 822, 823, 824, 825, 826, 827, 828, 829, 830, 831, 832, 833, 834, 835, 836, 837, 838, 839, 840, 841, 842, 843, 844, 845, 846, 847, 848, 849, 850, 851, 852, 853, 854, 855, 856, 857, 858, 859, 860, 861, 862, 863, 864, 865, 866, 867, 868, 869, 870, 871, 872, 873, 874, 875, 876, 877, 878, 879, 880, 881, 882, 883, 884, 885, 886, 887, 888, 889, 890, 891, 892, 893, 894, 895, 896, 897, 898, 899, 900, 901, 902, 903, 904, 905, 906, 907, 908, 909, 910, 911, 912, 913, 914, 915, 916, 917, 918, 919, 920, 921, 922, 923, 924, 925, 926, 927, 928, 929, 930, 931, 932, 933, 934, 935, 936, 937, 938, 939, 940, 941, 942, 943, 944, 945, 946, 947, 948, 949, 950, 951, 952, 953, 954, 955, 956, 957, 958, 959, 960, 961, 962, 963, 964, 965, 966, 967, 968, 969, 970, 971, 972, 973, 974, 975, 976, 977, 978, 979, 980, 981, 982, 983, 984, 985, 986, 987, 988, 989, 990, 991, 992, 993, 994, 995, 996, 997, 998, 999, 1000, 1001]\n",
      "220 284\n",
      "1\n"
     ]
    }
   ],
   "source": [
    "n = int(input('enter the range'))\n",
    "lst1=[]\n",
    "for i in range(1,n+1):\n",
    "    lst1.append(i)\n",
    "print(lst1) \n",
    "n1 = len(lst1)\n",
    "\n",
    "def sumPdivisors(a):\n",
    "\n",
    "        sum=0\n",
    "        for i in range(1,a):\n",
    "            \n",
    "            if a%i ==0:\n",
    "                sum = sum+i\n",
    "        return sum\n",
    "\n",
    "def AmicablePair(b,c):\n",
    "    if sumPdivisors(b)==c and sumPdivisors(c)==b:\n",
    "        return True\n",
    "    else:\n",
    "        return False\n",
    "\n",
    "def pairs(lst,n):\n",
    "    \n",
    "    count=0\n",
    "    for i in range(0,n):\n",
    "        for j in range(i+1,n):\n",
    "            if AmicablePair(lst[i], lst[j]):\n",
    "                print(lst[i],lst[j])\n",
    "                count+=1\n",
    "\n",
    "    return count\n",
    "\n",
    "#lst1 =[220, 284, 1184,1210, 2, 5]\n",
    "#n1 = len(lst1)\n",
    "\n",
    "#lst2= [2620, 2924, 5020,5564, 6232, 6368]\n",
    "#n2 =len(lst2)\n",
    "print(pairs(lst1,n1))\n",
    "#print(pairs(lst2,n2))\n",
    "\n",
    "\n",
    "\n",
    "\n",
    "\n",
    "                     "
   ]
  },
  {
   "cell_type": "markdown",
   "metadata": {},
   "source": [
    "12. Write a program which can filter odd numbers in a list by using filter functio"
   ]
  },
  {
   "cell_type": "code",
   "execution_count": 45,
   "metadata": {},
   "outputs": [
    {
     "name": "stdout",
     "output_type": "stream",
     "text": [
      "list= [1, 2, 3, 4, 5, 6, 7, 8, 9, 10]\n",
      "odd numbers [1, 3, 5, 7, 9]\n"
     ]
    }
   ],
   "source": [
    "#take list of numbers from user\n",
    "n = int(input('enter the range'))\n",
    "lst1=[]\n",
    "for i in range(1,n+1):\n",
    "    lst1.append(i)\n",
    "print('list=', lst1)\n",
    "  \n",
    "#odd function\n",
    "odd = lambda x: x % 2!=0\n",
    "\n",
    "  \n",
    "# using filter\n",
    "lis2 = list(filter(odd, lst1))\n",
    "  \n",
    "# Printing output\n",
    "print('odd numbers',lis2)"
   ]
  },
  {
   "cell_type": "markdown",
   "metadata": {},
   "source": [
    "13. Write a program which can map() to make a list whose elements are cube of elements in \n",
    "a given list"
   ]
  },
  {
   "cell_type": "code",
   "execution_count": 46,
   "metadata": {},
   "outputs": [
    {
     "name": "stdout",
     "output_type": "stream",
     "text": [
      "[1, 8, 27, 64, 125]\n"
     ]
    }
   ],
   "source": [
    "lst = [1, 2, 3, 4, 5]\n",
    "new_lst = list(map(lambda x: x**3, lst))\n",
    "print(new_lst)"
   ]
  },
  {
   "cell_type": "markdown",
   "metadata": {},
   "source": [
    "14. Write a program which can map() and filter() to make a list whose elements are cube of even number in a given list"
   ]
  },
  {
   "cell_type": "code",
   "execution_count": 49,
   "metadata": {},
   "outputs": [
    {
     "name": "stdout",
     "output_type": "stream",
     "text": [
      "even list [2, 4]\n",
      "cube list [8, 64]\n"
     ]
    }
   ],
   "source": [
    "#given list\n",
    "lst = [1, 2, 3, 4, 5] \n",
    "\n",
    "#even list\n",
    "even = lambda x:x%2==0\n",
    "even_lst = list(filter(even,lst))\n",
    "print('even list',even_lst)\n",
    "\n",
    "#cube list\n",
    "cube = lambda x:x**3\n",
    "cube_list =  list(map(cube, even_lst))\n",
    "print('cube list',cube_list)"
   ]
  }
 ],
 "metadata": {
  "interpreter": {
   "hash": "83fc23d4c88b6974a30aa00abdbfe5480e1ac824f6f63b757db9eaed6630a61c"
  },
  "kernelspec": {
   "display_name": "Python 3.8.1 32-bit",
   "language": "python",
   "name": "python3"
  },
  "language_info": {
   "codemirror_mode": {
    "name": "ipython",
    "version": 3
   },
   "file_extension": ".py",
   "mimetype": "text/x-python",
   "name": "python",
   "nbconvert_exporter": "python",
   "pygments_lexer": "ipython3",
   "version": "3.8.1"
  },
  "orig_nbformat": 4
 },
 "nbformat": 4,
 "nbformat_minor": 2
}
